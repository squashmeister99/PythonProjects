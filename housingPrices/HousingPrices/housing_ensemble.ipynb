{
 "cells": [
  {
   "cell_type": "code",
   "execution_count": 18,
   "metadata": {},
   "outputs": [],
   "source": [
    "from sklearn.ensemble import (RandomForestRegressor, GradientBoostingRegressor, AdaBoostRegressor)\n",
    "from sklearn.metrics import mean_absolute_error\n",
    "from sklearn.impute import SimpleImputer\n",
    "from sklearn.preprocessing import (StandardScaler, OneHotEncoder, FunctionTransformer, KBinsDiscretizer, RobustScaler)\n",
    "from sklearn.pipeline import Pipeline\n",
    "from sklearn.compose import ColumnTransformer\n",
    "from sklearn.model_selection import (train_test_split, GridSearchCV, cross_val_score, KFold)\n",
    "from scipy import stats\n",
    "import numpy as np\n",
    "import pandas as pd\n",
    "import matplotlib.pyplot as plt  # Matlab-style plotting\n",
    "import time\n",
    "import AveragedModels as av\n",
    "import xgboost as xgb\n",
    "import lightgbm as lgb\n",
    "import ml_helper2 as mlh"
   ]
  },
  {
   "cell_type": "code",
   "execution_count": 19,
   "metadata": {},
   "outputs": [],
   "source": [
    "train = pd.read_csv('../data/train.csv')\n",
    "test = pd.read_csv('../data/test.csv')"
   ]
  },
  {
   "cell_type": "code",
   "execution_count": 20,
   "metadata": {},
   "outputs": [
    {
     "name": "stdout",
     "output_type": "stream",
     "text": [
      "The train data size before dropping Id feature is : (1460, 81) \n",
      "The test data size before dropping Id feature is : (1459, 80) \n"
     ]
    }
   ],
   "source": [
    "print(\"The train data size before dropping Id feature is : {} \".format(train.shape))\n",
    "print(\"The test data size before dropping Id feature is : {} \".format(test.shape))"
   ]
  },
  {
   "cell_type": "code",
   "execution_count": 21,
   "metadata": {},
   "outputs": [
    {
     "name": "stdout",
     "output_type": "stream",
     "text": [
      "\n",
      "The train data size after dropping Id feature is : (1460, 80) \n",
      "The test data size after dropping Id feature is : (1459, 79) \n"
     ]
    }
   ],
   "source": [
    "#Save the 'Id' column\n",
    "train_ID = train['Id']\n",
    "test_ID = test['Id']\n",
    "\n",
    "#Now drop the  'Id' colum since it's unnecessary for  the prediction process.\n",
    "train.drop(\"Id\", axis = 1, inplace = True)\n",
    "test.drop(\"Id\", axis = 1, inplace = True)\n",
    "\n",
    "#check again the data size after dropping the 'Id' variable\n",
    "print(\"\\nThe train data size after dropping Id feature is : {} \".format(train.shape)) \n",
    "print(\"The test data size after dropping Id feature is : {} \".format(test.shape))"
   ]
  },
  {
   "cell_type": "code",
   "execution_count": 22,
   "metadata": {},
   "outputs": [
    {
     "data": {
      "image/png": "[encoded data removed]",
      "text/plain": [
       "<Figure size 432x288 with 1 Axes>"
      ]
     },
     "metadata": {
      "needs_background": "light"
     },
     "output_type": "display_data"
    }
   ],
   "source": [
    "fig, ax = plt.subplots()\n",
    "ax.scatter(x = train['GrLivArea'], y = train['SalePrice'])\n",
    "plt.ylabel('SalePrice', fontsize=13)\n",
    "plt.xlabel('GrLivArea', fontsize=13)\n",
    "plt.show()"
   ]
  },
  {
   "cell_type": "code",
   "execution_count": 23,
   "metadata": {},
   "outputs": [],
   "source": [
    "def scatterPlot(df, X, Y, font=13):\n",
    "    fig, ax = plt.subplots()\n",
    "    ax.scatter(x = df[X], y = df[Y])\n",
    "    plt.ylabel(Y, fontsize=13)\n",
    "    plt.xlabel(X, fontsize=13)\n",
    "    plt.show()\n",
    "    \n",
    "def crossValidateModel(model, X, y, name=\"<unknown>\", threads = -1):\n",
    "    start = time.time()\n",
    "    kf = KFold(5, shuffle=True, random_state=42).get_n_splits(train)\n",
    "    scores = cross_val_score(model, X, y, scoring = \"neg_mean_absolute_error\", n_jobs = threads, verbose = 4, cv = kf)\n",
    "    end = time.time()\n",
    "    elapsed_time = end - start\n",
    "    print(\"model {0} cross_val_score took {1} seconds\".format(name, elapsed_time))\n",
    "    displayScores(-scores)\n",
    "    \n",
    "def displayScores(scores):\n",
    "    print(\"Scores:\", scores)\n",
    "    print(\"Mean:\", scores.mean())\n",
    "    print(\"standard deviation:\", scores.std())"
   ]
  },
  {
   "cell_type": "code",
   "execution_count": 24,
   "metadata": {},
   "outputs": [
    {
     "name": "stdout",
     "output_type": "stream",
     "text": [
      "number of outliers = 29\n",
      "(1434, 80)\n"
     ]
    },
    {
     "name": "stderr",
     "output_type": "stream",
     "text": [
      "E:\\pythonProjects\\PythonProjects\\housingPrices\\HousingPrices\\ml_helper2.py:25: RuntimeWarning: invalid value encountered in greater\n",
      "  outliers = np.where(z > zValue)\n"
     ]
    }
   ],
   "source": [
    "train, outliers = mlh.outlierDetect_ZScore(train, zValue = 9)\n",
    "print(train.shape)"
   ]
  },
  {
   "cell_type": "code",
   "execution_count": 25,
   "metadata": {},
   "outputs": [
    {
     "name": "stdout",
     "output_type": "stream",
     "text": [
      "all_data size is : (2893, 79)\n"
     ]
    }
   ],
   "source": [
    "ntrain = train.shape[0]\n",
    "ntest = test.shape[0]\n",
    "y_train = train.SalePrice.values\n",
    "all_data = pd.concat((train, test), sort = False).reset_index(drop=True)\n",
    "all_data.drop(['SalePrice'], axis=1, inplace=True)\n",
    "print(\"all_data size is : {}\".format(all_data.shape))"
   ]
  },
  {
   "cell_type": "code",
   "execution_count": 26,
   "metadata": {},
   "outputs": [
    {
     "data": {
      "text/html": [
       "<div>\n",
       "<style scoped>\n",
       "    .dataframe tbody tr th:only-of-type {\n",
       "        vertical-align: middle;\n",
       "    }\n",
       "\n",
       "    .dataframe tbody tr th {\n",
       "        vertical-align: top;\n",
       "    }\n",
       "\n",
       "    .dataframe thead th {\n",
       "        text-align: right;\n",
       "    }\n",
       "</style>\n",
       "<table border=\"1\" class=\"dataframe\">\n",
       "  <thead>\n",
       "    <tr style=\"text-align: right;\">\n",
       "      <th></th>\n",
       "      <th>Missing Ratio</th>\n",
       "    </tr>\n",
       "  </thead>\n",
       "  <tbody>\n",
       "    <tr>\n",
       "      <td>PoolQC</td>\n",
       "      <td>99.896301</td>\n",
       "    </tr>\n",
       "    <tr>\n",
       "      <td>MiscFeature</td>\n",
       "      <td>96.577947</td>\n",
       "    </tr>\n",
       "    <tr>\n",
       "      <td>Alley</td>\n",
       "      <td>93.190460</td>\n",
       "    </tr>\n",
       "    <tr>\n",
       "      <td>Fence</td>\n",
       "      <td>80.608365</td>\n",
       "    </tr>\n",
       "    <tr>\n",
       "      <td>FireplaceQu</td>\n",
       "      <td>48.772900</td>\n",
       "    </tr>\n",
       "    <tr>\n",
       "      <td>LotFrontage</td>\n",
       "      <td>16.522641</td>\n",
       "    </tr>\n",
       "    <tr>\n",
       "      <td>GarageFinish</td>\n",
       "      <td>5.357760</td>\n",
       "    </tr>\n",
       "    <tr>\n",
       "      <td>GarageYrBlt</td>\n",
       "      <td>5.357760</td>\n",
       "    </tr>\n",
       "    <tr>\n",
       "      <td>GarageQual</td>\n",
       "      <td>5.357760</td>\n",
       "    </tr>\n",
       "    <tr>\n",
       "      <td>GarageCond</td>\n",
       "      <td>5.357760</td>\n",
       "    </tr>\n",
       "    <tr>\n",
       "      <td>GarageType</td>\n",
       "      <td>5.288628</td>\n",
       "    </tr>\n",
       "    <tr>\n",
       "      <td>BsmtExposure</td>\n",
       "      <td>2.834428</td>\n",
       "    </tr>\n",
       "    <tr>\n",
       "      <td>BsmtCond</td>\n",
       "      <td>2.834428</td>\n",
       "    </tr>\n",
       "    <tr>\n",
       "      <td>BsmtQual</td>\n",
       "      <td>2.799862</td>\n",
       "    </tr>\n",
       "    <tr>\n",
       "      <td>BsmtFinType2</td>\n",
       "      <td>2.765296</td>\n",
       "    </tr>\n",
       "    <tr>\n",
       "      <td>BsmtFinType1</td>\n",
       "      <td>2.730729</td>\n",
       "    </tr>\n",
       "    <tr>\n",
       "      <td>MasVnrType</td>\n",
       "      <td>0.829589</td>\n",
       "    </tr>\n",
       "    <tr>\n",
       "      <td>MasVnrArea</td>\n",
       "      <td>0.795022</td>\n",
       "    </tr>\n",
       "    <tr>\n",
       "      <td>MSZoning</td>\n",
       "      <td>0.138265</td>\n",
       "    </tr>\n",
       "    <tr>\n",
       "      <td>BsmtFullBath</td>\n",
       "      <td>0.069132</td>\n",
       "    </tr>\n",
       "  </tbody>\n",
       "</table>\n",
       "</div>"
      ],
      "text/plain": [
       "              Missing Ratio\n",
       "PoolQC            99.896301\n",
       "MiscFeature       96.577947\n",
       "Alley             93.190460\n",
       "Fence             80.608365\n",
       "FireplaceQu       48.772900\n",
       "LotFrontage       16.522641\n",
       "GarageFinish       5.357760\n",
       "GarageYrBlt        5.357760\n",
       "GarageQual         5.357760\n",
       "GarageCond         5.357760\n",
       "GarageType         5.288628\n",
       "BsmtExposure       2.834428\n",
       "BsmtCond           2.834428\n",
       "BsmtQual           2.799862\n",
       "BsmtFinType2       2.765296\n",
       "BsmtFinType1       2.730729\n",
       "MasVnrType         0.829589\n",
       "MasVnrArea         0.795022\n",
       "MSZoning           0.138265\n",
       "BsmtFullBath       0.069132"
      ]
     },
     "execution_count": 26,
     "metadata": {},
     "output_type": "execute_result"
    }
   ],
   "source": [
    "all_data_na = (all_data.isnull().sum() / len(all_data)) * 100\n",
    "all_data_na = all_data_na.drop(all_data_na[all_data_na == 0].index).sort_values(ascending=False)[:30]\n",
    "missing_data = pd.DataFrame({'Missing Ratio' :all_data_na})\n",
    "missing_data.head(20)"
   ]
  },
  {
   "cell_type": "code",
   "execution_count": 27,
   "metadata": {},
   "outputs": [],
   "source": [
    "all_data[\"PoolQC\"] = all_data[\"PoolQC\"].fillna(\"None\")\n",
    "all_data[\"MiscFeature\"] = all_data[\"MiscFeature\"].fillna(\"None\")\n",
    "all_data[\"Alley\"] = all_data[\"Alley\"].fillna(\"None\")\n",
    "all_data[\"Fence\"] = all_data[\"Fence\"].fillna(\"None\")\n",
    "all_data[\"FireplaceQu\"] = all_data[\"FireplaceQu\"].fillna(\"None\")\n",
    "all_data[\"LotFrontage\"] = all_data.groupby(\"Neighborhood\")[\"LotFrontage\"].transform(\n",
    "    lambda x: x.fillna(x.median()))\n",
    "\n",
    "for col in ('GarageType', 'GarageFinish', 'GarageQual', 'GarageCond'):\n",
    "    all_data[col] = all_data[col].fillna('None')\n",
    "    \n",
    "for col in ('GarageYrBlt', 'GarageArea', 'GarageCars'):\n",
    "    all_data[col] = all_data[col].fillna(0)\n",
    "    \n",
    "for col in ('BsmtFinSF1', 'BsmtFinSF2', 'BsmtUnfSF','TotalBsmtSF', 'BsmtFullBath', 'BsmtHalfBath'):\n",
    "    all_data[col] = all_data[col].fillna(0)\n",
    "    \n",
    "for col in ('BsmtQual', 'BsmtCond', 'BsmtExposure', 'BsmtFinType1', 'BsmtFinType2'):\n",
    "    all_data[col] = all_data[col].fillna('None')\n",
    "    \n",
    "all_data[\"MasVnrType\"] = all_data[\"MasVnrType\"].fillna(\"None\")\n",
    "all_data[\"MasVnrArea\"] = all_data[\"MasVnrArea\"].fillna(0)\n",
    "\n",
    "all_data['MSZoning'] = all_data['MSZoning'].fillna(all_data['MSZoning'].mode()[0])\n",
    "all_data = all_data.drop(['Utilities'], axis=1)\n",
    "all_data[\"Functional\"] = all_data[\"Functional\"].fillna(\"Typ\")\n",
    "all_data['Electrical'] = all_data['Electrical'].fillna(all_data['Electrical'].mode()[0])\n",
    "all_data['KitchenQual'] = all_data['KitchenQual'].fillna(all_data['KitchenQual'].mode()[0])\n",
    "all_data['Exterior1st'] = all_data['Exterior1st'].fillna(all_data['Exterior1st'].mode()[0])\n",
    "all_data['Exterior2nd'] = all_data['Exterior2nd'].fillna(all_data['Exterior2nd'].mode()[0])\n",
    "all_data['SaleType'] = all_data['SaleType'].fillna(all_data['SaleType'].mode()[0])\n",
    "all_data['MSSubClass'] = all_data['MSSubClass'].fillna(\"None\")"
   ]
  },
  {
   "cell_type": "code",
   "execution_count": 28,
   "metadata": {},
   "outputs": [
    {
     "name": "stdout",
     "output_type": "stream",
     "text": [
      "28\n",
      "(2893, 311)\n"
     ]
    },
    {
     "name": "stderr",
     "output_type": "stream",
     "text": [
      "c:\\users\\rajes\\appdata\\local\\programs\\python\\python37\\lib\\site-packages\\sklearn\\preprocessing\\_discretization.py:193: UserWarning: Bins whose width are too small (i.e., <= 1e-8) in feature 3 are removed. Consider decreasing the number of bins.\n",
      "  'decreasing the number of bins.' % jj)\n"
     ]
    }
   ],
   "source": [
    "# We create the preprocessing pipelines for both numeric and categorical data.\n",
    "numeric_features = all_data.select_dtypes(exclude=object) \n",
    "num_features_names = numeric_features.columns\n",
    "\n",
    "# features that need a log transformation\n",
    "log_features_names = [\"LotFrontage\", \"LotArea\", \"GrLivArea\", \"OpenPorchSF\"]\n",
    "\n",
    "log_pipeline = Pipeline(steps=[\n",
    "    ('imputer', SimpleImputer(strategy='median')),\n",
    "    ('scaler', FunctionTransformer(np.log1p, validate=False)),\n",
    "    ('logscaler', RobustScaler())])\n",
    "\n",
    "#kbinDiscretizer features\n",
    "year_features_names = ['YearBuilt', 'YearRemodAdd', 'GarageYrBlt', 'YrSold']\n",
    "year_pipeline = Pipeline(steps=[\n",
    "    ('imputer', SimpleImputer(strategy='median')),\n",
    "    ('kbd', KBinsDiscretizer(n_bins=5, encode='onehot-dense'))])\n",
    "\n",
    "#numeric features that require a normal transformation\n",
    "\n",
    "numeric_features_names = [x for x in num_features_names if x not in log_features_names + year_features_names]\n",
    "print(len(numeric_features_names))\n",
    "\n",
    "numeric_pipeline = Pipeline(steps=[\n",
    "    ('imputer', SimpleImputer(strategy='median')),\n",
    "    ('scaler', RobustScaler())])\n",
    "\n",
    "categorical_features_names = all_data.select_dtypes(include=object).columns\n",
    "\n",
    "cat_pipeline = Pipeline(steps=[\n",
    "    ('imputer', SimpleImputer(strategy='constant', fill_value='missing')),\n",
    "    ('onehot', OneHotEncoder(handle_unknown='ignore'))])\n",
    "\n",
    "transformers=[\n",
    "        ('log', log_pipeline, log_features_names),\n",
    "        ('num', numeric_pipeline, numeric_features_names),\n",
    "        ('cat', cat_pipeline, categorical_features_names),\n",
    "        ('year', year_pipeline, year_features_names)     \n",
    "    ]\n",
    "\n",
    "ct = ColumnTransformer(transformers=transformers)\n",
    "Xt = ct.fit_transform(all_data)\n",
    "print(Xt.shape)"
   ]
  },
  {
   "cell_type": "code",
   "execution_count": 29,
   "metadata": {},
   "outputs": [],
   "source": [
    "#fitting and prediction\n",
    "train = Xt[:ntrain]\n",
    "test = Xt[ntrain:]"
   ]
  },
  {
   "cell_type": "code",
   "execution_count": 35,
   "metadata": {},
   "outputs": [
    {
     "name": "stderr",
     "output_type": "stream",
     "text": [
      "[Parallel(n_jobs=-1)]: Using backend LokyBackend with 4 concurrent workers.\n",
      "[Parallel(n_jobs=-1)]: Done   2 out of   5 | elapsed:    8.8s remaining:   13.2s\n"
     ]
    },
    {
     "name": "stdout",
     "output_type": "stream",
     "text": [
      "model xgb cross_val_score took 13.152648448944092 seconds\n",
      "Scores: [14178.79322735 16274.3133983  16269.34389972 13748.07450457\n",
      " 14578.36834845]\n",
      "Mean: 15009.77867567836\n",
      "standard deviation: 1063.400368580126\n"
     ]
    },
    {
     "name": "stderr",
     "output_type": "stream",
     "text": [
      "[Parallel(n_jobs=-1)]: Done   5 out of   5 | elapsed:   12.7s finished\n"
     ]
    }
   ],
   "source": [
    "# try xgboost\\n\",\n",
    "xgb_model = xgb.XGBRegressor(colsample_bytree=0.8, subsample=0.5,\n",
    "                            learning_rate=0.05, max_depth=5,\n",
    "                              min_child_weight=1.8, n_estimators=500,\n",
    "                               reg_alpha=0.9, reg_lambda=0.9, gamma=0.001, \n",
    "                              silent=1, random_state =7, nthread = -1, refit = True)\n",
    "\n",
    "crossValidateModel(xgb_model, train, y_train, \"xgb\")"
   ]
  },
  {
   "cell_type": "code",
   "execution_count": 32,
   "metadata": {},
   "outputs": [
    {
     "name": "stdout",
     "output_type": "stream",
     "text": [
      "Fitting 5 folds for each of 48 candidates, totalling 240 fits\n"
     ]
    },
    {
     "name": "stderr",
     "output_type": "stream",
     "text": [
      "[Parallel(n_jobs=-1)]: Using backend LokyBackend with 4 concurrent workers.\n",
      "[Parallel(n_jobs=-1)]: Done   5 tasks      | elapsed:    8.9s\n",
      "[Parallel(n_jobs=-1)]: Done  10 tasks      | elapsed:   15.4s\n",
      "[Parallel(n_jobs=-1)]: Done  17 tasks      | elapsed:   23.8s\n",
      "[Parallel(n_jobs=-1)]: Done  24 tasks      | elapsed:   32.2s\n",
      "[Parallel(n_jobs=-1)]: Done  33 tasks      | elapsed:   42.9s\n",
      "[Parallel(n_jobs=-1)]: Done  42 tasks      | elapsed:   54.9s\n",
      "[Parallel(n_jobs=-1)]: Done  53 tasks      | elapsed:  1.1min\n",
      "[Parallel(n_jobs=-1)]: Done  64 tasks      | elapsed:  1.4min\n",
      "[Parallel(n_jobs=-1)]: Done  77 tasks      | elapsed:  1.7min\n",
      "[Parallel(n_jobs=-1)]: Done  90 tasks      | elapsed:  2.1min\n",
      "[Parallel(n_jobs=-1)]: Done 105 tasks      | elapsed:  2.5min\n",
      "[Parallel(n_jobs=-1)]: Done 120 tasks      | elapsed:  2.9min\n",
      "[Parallel(n_jobs=-1)]: Done 137 tasks      | elapsed:  3.6min\n",
      "[Parallel(n_jobs=-1)]: Done 154 tasks      | elapsed:  4.2min\n",
      "[Parallel(n_jobs=-1)]: Done 173 tasks      | elapsed:  4.9min\n",
      "[Parallel(n_jobs=-1)]: Done 192 tasks      | elapsed:  5.7min\n",
      "[Parallel(n_jobs=-1)]: Done 213 tasks      | elapsed:  6.6min\n",
      "[Parallel(n_jobs=-1)]: Done 240 out of 240 | elapsed:  7.8min finished\n"
     ]
    },
    {
     "data": {
      "text/plain": [
       "GridSearchCV(cv=5, error_score='raise-deprecating',\n",
       "             estimator=XGBRegressor(base_score=0.5, booster='gbtree',\n",
       "                                    colsample_bylevel=1, colsample_bynode=1,\n",
       "                                    colsample_bytree=0.8, gamma=0.01,\n",
       "                                    importance_type='gain', learning_rate=0.05,\n",
       "                                    max_delta_step=0, max_depth=5,\n",
       "                                    min_child_weight=1.8, missing=None,\n",
       "                                    n_estimators=700, n_jobs=1, nthread=-1,\n",
       "                                    objective='reg:linear', random_state=7,\n",
       "                                    refit=True, reg_alpha=0.9, reg_lambda=0.9,\n",
       "                                    scale_pos_weight=1, seed=None, silent=1,\n",
       "                                    subsample=0.5, verbosity=1),\n",
       "             iid='warn', n_jobs=-1,\n",
       "             param_grid=[{'colsample_bytree': [0.3, 0.5, 0.8, 0.9],\n",
       "                          'gamma': [0.001, 0.01, 0.1, 1],\n",
       "                          'n_estimators': [500, 750, 1000]}],\n",
       "             pre_dispatch='2*n_jobs', refit=True, return_train_score=False,\n",
       "             scoring='neg_mean_absolute_error', verbose=10)"
      ]
     },
     "execution_count": 32,
     "metadata": {},
     "output_type": "execute_result"
    }
   ],
   "source": [
    "# Set the parameters by cross-validation\n",
    "param_grid = [{'colsample_bytree': [0.3, 0.5, 0.8, 0.9], 'gamma': [1e-3, 1e-2, 1e-1, 1],\n",
    "                     'n_estimators': [500, 750, 1000]},\n",
    "                    ]\n",
    "\n",
    "grid_search = GridSearchCV(xgb_model, param_grid, scoring = \"neg_mean_absolute_error\", n_jobs = -1, verbose = 10, cv = 5)\n",
    "grid_search.fit(train,y_train)"
   ]
  },
  {
   "cell_type": "code",
   "execution_count": 34,
   "metadata": {},
   "outputs": [
    {
     "data": {
      "text/plain": [
       "{'colsample_bytree': 0.8, 'gamma': 0.001, 'n_estimators': 500}"
      ]
     },
     "execution_count": 34,
     "metadata": {},
     "output_type": "execute_result"
    }
   ],
   "source": [
    "grid_search.best_params_"
   ]
  },
  {
   "cell_type": "code",
   "execution_count": 31,
   "metadata": {},
   "outputs": [
    {
     "name": "stderr",
     "output_type": "stream",
     "text": [
      "[Parallel(n_jobs=1)]: Using backend SequentialBackend with 1 concurrent workers.\n"
     ]
    },
    {
     "name": "stdout",
     "output_type": "stream",
     "text": [
      "[CV]  ................................................................\n",
      "[CV] ............................... , score=-14547.114, total=   0.3s\n",
      "[CV]  ................................................................\n"
     ]
    },
    {
     "name": "stderr",
     "output_type": "stream",
     "text": [
      "[Parallel(n_jobs=1)]: Done   1 out of   1 | elapsed:    0.2s remaining:    0.0s\n"
     ]
    },
    {
     "name": "stdout",
     "output_type": "stream",
     "text": [
      "[CV] ............................... , score=-16495.071, total=   0.2s\n",
      "[CV]  ................................................................\n"
     ]
    },
    {
     "name": "stderr",
     "output_type": "stream",
     "text": [
      "[Parallel(n_jobs=1)]: Done   2 out of   2 | elapsed:    0.4s remaining:    0.0s\n"
     ]
    },
    {
     "name": "stdout",
     "output_type": "stream",
     "text": [
      "[CV] ............................... , score=-15839.676, total=   0.3s\n",
      "[CV]  ................................................................\n"
     ]
    },
    {
     "name": "stderr",
     "output_type": "stream",
     "text": [
      "[Parallel(n_jobs=1)]: Done   3 out of   3 | elapsed:    0.7s remaining:    0.0s\n"
     ]
    },
    {
     "name": "stdout",
     "output_type": "stream",
     "text": [
      "[CV] ............................... , score=-13679.437, total=   0.2s\n",
      "[CV]  ................................................................\n",
      "[CV] ............................... , score=-13827.800, total=   0.3s\n",
      "model lightgbm cross_val_score took 1.301516056060791 seconds\n",
      "Scores: [14547.11431369 16495.07133039 15839.67649522 13679.43743991\n",
      " 13827.79979577]\n",
      "Mean: 14877.819874996776\n",
      "standard deviation: 1112.5375700278682\n"
     ]
    },
    {
     "name": "stderr",
     "output_type": "stream",
     "text": [
      "[Parallel(n_jobs=1)]: Done   5 out of   5 | elapsed:    1.2s finished\n"
     ]
    }
   ],
   "source": [
    "model_lgb = lgb.LGBMRegressor(objective='regression',num_leaves=5,\n",
    "                                 learning_rate=0.05, n_estimators=720,\n",
    "                                 max_bin = 55, bagging_fraction = 0.8,\n",
    "                                 bagging_freq = 5, feature_fraction = 0.2319,\n",
    "                                 feature_fraction_seed=9, bagging_seed=9,\n",
    "                                 min_data_in_leaf =6, min_sum_hessian_in_leaf = 11)\n",
    "\n",
    "crossValidateModel(model_lgb, train, y_train, \"lightgbm\", 1) # 1 job"
   ]
  },
  {
   "cell_type": "code",
   "execution_count": null,
   "metadata": {},
   "outputs": [],
   "source": []
  },
  {
   "cell_type": "code",
   "execution_count": 17,
   "metadata": {},
   "outputs": [
    {
     "name": "stderr",
     "output_type": "stream",
     "text": [
      "[Parallel(n_jobs=-1)]: Using backend LokyBackend with 4 concurrent workers.\n",
      "[Parallel(n_jobs=-1)]: Done   2 out of   5 | elapsed:   20.3s remaining:   30.4s\n"
     ]
    },
    {
     "name": "stdout",
     "output_type": "stream",
     "text": [
      "model gboost cross_val_score took 33.46435308456421 seconds\n",
      "Scores: [14099.48264972 16417.52633853 16053.67851183 12735.2849404\n",
      " 14253.47610194]\n",
      "Mean: 14711.889708484552\n",
      "standard deviation: 1356.5946598774133\n"
     ]
    },
    {
     "name": "stderr",
     "output_type": "stream",
     "text": [
      "[Parallel(n_jobs=-1)]: Done   5 out of   5 | elapsed:   33.1s finished\n"
     ]
    }
   ],
   "source": [
    "GBoost = GradientBoostingRegressor(n_estimators=3000, learning_rate=0.05,\n",
    "                                       max_depth=4, max_features='sqrt',\n",
    "                                       min_samples_leaf=15, min_samples_split=10, \n",
    "                                       loss='huber', random_state =5)\n",
    "\n",
    "crossValidateModel(GBoost, train, y_train, \"gboost\")"
   ]
  },
  {
   "cell_type": "code",
   "execution_count": 16,
   "metadata": {},
   "outputs": [
    {
     "ename": "NameError",
     "evalue": "name 'GBoost' is not defined",
     "output_type": "error",
     "traceback": [
      "\u001b[1;31m---------------------------------------------------------------------------\u001b[0m",
      "\u001b[1;31mNameError\u001b[0m                                 Traceback (most recent call last)",
      "\u001b[1;32m<ipython-input-16-28e3d3204155>\u001b[0m in \u001b[0;36m<module>\u001b[1;34m\u001b[0m\n\u001b[1;32m----> 1\u001b[1;33m \u001b[0maveraged_models\u001b[0m \u001b[1;33m=\u001b[0m \u001b[0mav\u001b[0m\u001b[1;33m.\u001b[0m\u001b[0mAveragingModels\u001b[0m\u001b[1;33m(\u001b[0m\u001b[0mmodels\u001b[0m \u001b[1;33m=\u001b[0m \u001b[1;33m(\u001b[0m\u001b[0mGBoost\u001b[0m\u001b[1;33m,\u001b[0m \u001b[0mmodel_lgb\u001b[0m\u001b[1;33m,\u001b[0m \u001b[0mxgb_model\u001b[0m\u001b[1;33m)\u001b[0m\u001b[1;33m)\u001b[0m\u001b[1;33m\u001b[0m\u001b[1;33m\u001b[0m\u001b[0m\n\u001b[0m",
      "\u001b[1;31mNameError\u001b[0m: name 'GBoost' is not defined"
     ]
    }
   ],
   "source": [
    "averaged_models = av.AveragingModels(models = (GBoost, model_lgb, xgb_model))\n",
    "\n"
   ]
  },
  {
   "cell_type": "code",
   "execution_count": null,
   "metadata": {},
   "outputs": [],
   "source": [
    "averaged_models.fit(train, y_train)\n",
    "\n",
    "#make predictions which we will submit. \n",
    "y_pred = averaged_models.predict(test)\n",
    "\n",
    "#The lines below shows how to save predictions in format used for competition scoring\n",
    "output = pd.DataFrame({'Id': test_ID,\n",
    "                       'SalePrice': y_pred})\n",
    "output.to_csv('../data/submission.csv', index=False)"
   ]
  },
  {
   "cell_type": "code",
   "execution_count": null,
   "metadata": {},
   "outputs": [],
   "source": []
  }
 ],
 "metadata": {
  "kernelspec": {
   "display_name": "Python 3",
   "language": "python",
   "name": "python3"
  },
  "language_info": {
   "codemirror_mode": {
    "name": "ipython",
    "version": 3
   },
   "file_extension": ".py",
   "mimetype": "text/x-python",
   "name": "python",
   "nbconvert_exporter": "python",
   "pygments_lexer": "ipython3",
   "version": "3.7.4"
  }
 },
 "nbformat": 4,
 "nbformat_minor": 2
}
